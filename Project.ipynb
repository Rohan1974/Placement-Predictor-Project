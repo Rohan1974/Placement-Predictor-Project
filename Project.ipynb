{
 "cells": [
  {
   "cell_type": "markdown",
   "id": "a8b8110a",
   "metadata": {},
   "source": [
    "# Placement Predictor Project"
   ]
  },
  {
   "cell_type": "code",
   "execution_count": 1,
   "id": "50a77a72",
   "metadata": {},
   "outputs": [],
   "source": [
    "import numpy as np\n",
    "import pandas as pd"
   ]
  },
  {
   "cell_type": "code",
   "execution_count": 2,
   "id": "b35f62bb",
   "metadata": {},
   "outputs": [],
   "source": [
    "df = pd.read_csv('placement.csv')"
   ]
  },
  {
   "cell_type": "code",
   "execution_count": 3,
   "id": "c018f713",
   "metadata": {
    "scrolled": true
   },
   "outputs": [
    {
     "data": {
      "text/html": [
       "<div>\n",
       "<style scoped>\n",
       "    .dataframe tbody tr th:only-of-type {\n",
       "        vertical-align: middle;\n",
       "    }\n",
       "\n",
       "    .dataframe tbody tr th {\n",
       "        vertical-align: top;\n",
       "    }\n",
       "\n",
       "    .dataframe thead th {\n",
       "        text-align: right;\n",
       "    }\n",
       "</style>\n",
       "<table border=\"1\" class=\"dataframe\">\n",
       "  <thead>\n",
       "    <tr style=\"text-align: right;\">\n",
       "      <th></th>\n",
       "      <th>Unnamed: 0</th>\n",
       "      <th>cgpa</th>\n",
       "      <th>iq</th>\n",
       "      <th>placement</th>\n",
       "    </tr>\n",
       "  </thead>\n",
       "  <tbody>\n",
       "    <tr>\n",
       "      <th>0</th>\n",
       "      <td>0</td>\n",
       "      <td>6.8</td>\n",
       "      <td>123.0</td>\n",
       "      <td>1</td>\n",
       "    </tr>\n",
       "    <tr>\n",
       "      <th>1</th>\n",
       "      <td>1</td>\n",
       "      <td>5.9</td>\n",
       "      <td>106.0</td>\n",
       "      <td>0</td>\n",
       "    </tr>\n",
       "    <tr>\n",
       "      <th>2</th>\n",
       "      <td>2</td>\n",
       "      <td>5.3</td>\n",
       "      <td>121.0</td>\n",
       "      <td>0</td>\n",
       "    </tr>\n",
       "    <tr>\n",
       "      <th>3</th>\n",
       "      <td>3</td>\n",
       "      <td>7.4</td>\n",
       "      <td>132.0</td>\n",
       "      <td>1</td>\n",
       "    </tr>\n",
       "    <tr>\n",
       "      <th>4</th>\n",
       "      <td>4</td>\n",
       "      <td>5.8</td>\n",
       "      <td>142.0</td>\n",
       "      <td>0</td>\n",
       "    </tr>\n",
       "    <tr>\n",
       "      <th>...</th>\n",
       "      <td>...</td>\n",
       "      <td>...</td>\n",
       "      <td>...</td>\n",
       "      <td>...</td>\n",
       "    </tr>\n",
       "    <tr>\n",
       "      <th>95</th>\n",
       "      <td>95</td>\n",
       "      <td>4.3</td>\n",
       "      <td>200.0</td>\n",
       "      <td>0</td>\n",
       "    </tr>\n",
       "    <tr>\n",
       "      <th>96</th>\n",
       "      <td>96</td>\n",
       "      <td>4.4</td>\n",
       "      <td>42.0</td>\n",
       "      <td>0</td>\n",
       "    </tr>\n",
       "    <tr>\n",
       "      <th>97</th>\n",
       "      <td>97</td>\n",
       "      <td>6.7</td>\n",
       "      <td>182.0</td>\n",
       "      <td>1</td>\n",
       "    </tr>\n",
       "    <tr>\n",
       "      <th>98</th>\n",
       "      <td>98</td>\n",
       "      <td>6.3</td>\n",
       "      <td>103.0</td>\n",
       "      <td>1</td>\n",
       "    </tr>\n",
       "    <tr>\n",
       "      <th>99</th>\n",
       "      <td>99</td>\n",
       "      <td>6.2</td>\n",
       "      <td>113.0</td>\n",
       "      <td>1</td>\n",
       "    </tr>\n",
       "  </tbody>\n",
       "</table>\n",
       "<p>100 rows × 4 columns</p>\n",
       "</div>"
      ],
      "text/plain": [
       "    Unnamed: 0  cgpa     iq  placement\n",
       "0            0   6.8  123.0          1\n",
       "1            1   5.9  106.0          0\n",
       "2            2   5.3  121.0          0\n",
       "3            3   7.4  132.0          1\n",
       "4            4   5.8  142.0          0\n",
       "..         ...   ...    ...        ...\n",
       "95          95   4.3  200.0          0\n",
       "96          96   4.4   42.0          0\n",
       "97          97   6.7  182.0          1\n",
       "98          98   6.3  103.0          1\n",
       "99          99   6.2  113.0          1\n",
       "\n",
       "[100 rows x 4 columns]"
      ]
     },
     "execution_count": 3,
     "metadata": {},
     "output_type": "execute_result"
    }
   ],
   "source": [
    "df"
   ]
  },
  {
   "cell_type": "markdown",
   "id": "3712c725",
   "metadata": {},
   "source": [
    "# Steps Followed:"
   ]
  },
  {
   "cell_type": "markdown",
   "id": "86f1cef3",
   "metadata": {},
   "source": [
    "**0. Data Preprocessing**\n",
    "\n",
    "**1. EDA**\n",
    "\n",
    "**2. Extract Input and Output columns**\n",
    "\n",
    "**3. Train_test_split**\n",
    "\n",
    "**4. Scale your model**\n",
    "\n",
    "**5. Train your model**\n",
    "\n",
    "**6. Visuliaze your model**"
   ]
  },
  {
   "cell_type": "markdown",
   "id": "de174dfa",
   "metadata": {},
   "source": [
    "# Sci-kit learn modules used in this project"
   ]
  },
  {
   "cell_type": "markdown",
   "id": "e65d0a4f",
   "metadata": {},
   "source": [
    "**0. sklearn.model_selection** **:** **for train_test_split**\n",
    "\n",
    "**1. sklearn.preprocessing** **:** **for StandardScaler(Scalability check)**\n",
    "    \n",
    "**2. sklearn.linear_model** **:** **for algorithm selection**\n",
    "    \n",
    "**3. sklearn.metrics** **:** **for accuracy score**\n",
    "    \n",
    "    "
   ]
  },
  {
   "cell_type": "markdown",
   "id": "62f19d3c",
   "metadata": {},
   "source": [
    "# For visulization of your algorithm"
   ]
  },
  {
   "cell_type": "markdown",
   "id": "568f31fa",
   "metadata": {},
   "source": [
    "**mlxtend.plotting** **:** **for visulizing your ML algorithm result**"
   ]
  },
  {
   "cell_type": "markdown",
   "id": "dafda863",
   "metadata": {},
   "source": [
    "# Data Preprocessing"
   ]
  },
  {
   "cell_type": "markdown",
   "id": "ef408b4b",
   "metadata": {},
   "source": [
    "**Remove the first unwanted column**"
   ]
  },
  {
   "cell_type": "code",
   "execution_count": 8,
   "id": "305fd601",
   "metadata": {},
   "outputs": [],
   "source": [
    "df = df.iloc[:,1:]"
   ]
  },
  {
   "cell_type": "code",
   "execution_count": 9,
   "id": "4670bd80",
   "metadata": {},
   "outputs": [
    {
     "data": {
      "text/html": [
       "<div>\n",
       "<style scoped>\n",
       "    .dataframe tbody tr th:only-of-type {\n",
       "        vertical-align: middle;\n",
       "    }\n",
       "\n",
       "    .dataframe tbody tr th {\n",
       "        vertical-align: top;\n",
       "    }\n",
       "\n",
       "    .dataframe thead th {\n",
       "        text-align: right;\n",
       "    }\n",
       "</style>\n",
       "<table border=\"1\" class=\"dataframe\">\n",
       "  <thead>\n",
       "    <tr style=\"text-align: right;\">\n",
       "      <th></th>\n",
       "      <th>cgpa</th>\n",
       "      <th>iq</th>\n",
       "      <th>placement</th>\n",
       "    </tr>\n",
       "  </thead>\n",
       "  <tbody>\n",
       "    <tr>\n",
       "      <th>0</th>\n",
       "      <td>6.8</td>\n",
       "      <td>123.0</td>\n",
       "      <td>1</td>\n",
       "    </tr>\n",
       "    <tr>\n",
       "      <th>1</th>\n",
       "      <td>5.9</td>\n",
       "      <td>106.0</td>\n",
       "      <td>0</td>\n",
       "    </tr>\n",
       "    <tr>\n",
       "      <th>2</th>\n",
       "      <td>5.3</td>\n",
       "      <td>121.0</td>\n",
       "      <td>0</td>\n",
       "    </tr>\n",
       "    <tr>\n",
       "      <th>3</th>\n",
       "      <td>7.4</td>\n",
       "      <td>132.0</td>\n",
       "      <td>1</td>\n",
       "    </tr>\n",
       "    <tr>\n",
       "      <th>4</th>\n",
       "      <td>5.8</td>\n",
       "      <td>142.0</td>\n",
       "      <td>0</td>\n",
       "    </tr>\n",
       "  </tbody>\n",
       "</table>\n",
       "</div>"
      ],
      "text/plain": [
       "   cgpa     iq  placement\n",
       "0   6.8  123.0          1\n",
       "1   5.9  106.0          0\n",
       "2   5.3  121.0          0\n",
       "3   7.4  132.0          1\n",
       "4   5.8  142.0          0"
      ]
     },
     "execution_count": 9,
     "metadata": {},
     "output_type": "execute_result"
    }
   ],
   "source": [
    "df.head()"
   ]
  },
  {
   "cell_type": "markdown",
   "id": "ca685b99",
   "metadata": {},
   "source": [
    "# EDA: Data Visuliazation"
   ]
  },
  {
   "cell_type": "code",
   "execution_count": 10,
   "id": "d901ba97",
   "metadata": {},
   "outputs": [],
   "source": [
    "import matplotlib.pyplot as plt"
   ]
  },
  {
   "cell_type": "code",
   "execution_count": 12,
   "id": "3964a534",
   "metadata": {
    "scrolled": false
   },
   "outputs": [
    {
     "data": {
      "text/plain": [
       "<matplotlib.collections.PathCollection at 0x1d6017f7fa0>"
      ]
     },
     "execution_count": 12,
     "metadata": {},
     "output_type": "execute_result"
    },
    {
     "data": {
      "image/png": "[encoded data removed]",
      "text/plain": [
       "<Figure size 640x480 with 1 Axes>"
      ]
     },
     "metadata": {},
     "output_type": "display_data"
    }
   ],
   "source": [
    "plt.scatter(df['cgpa'], df['iq'], c=df['placement'])"
   ]
  },
  {
   "cell_type": "markdown",
   "id": "44de5c1e",
   "metadata": {},
   "source": [
    "# Extracting input and output columns"
   ]
  },
  {
   "cell_type": "markdown",
   "id": "7ce36aae",
   "metadata": {},
   "source": [
    "**Storing Dependent columns in one variable**"
   ]
  },
  {
   "cell_type": "code",
   "execution_count": 13,
   "id": "a36723c2",
   "metadata": {},
   "outputs": [],
   "source": [
    "X = df.iloc[:,0:2]"
   ]
  },
  {
   "cell_type": "code",
   "execution_count": 14,
   "id": "b748eb6e",
   "metadata": {},
   "outputs": [
    {
     "data": {
      "text/html": [
       "<div>\n",
       "<style scoped>\n",
       "    .dataframe tbody tr th:only-of-type {\n",
       "        vertical-align: middle;\n",
       "    }\n",
       "\n",
       "    .dataframe tbody tr th {\n",
       "        vertical-align: top;\n",
       "    }\n",
       "\n",
       "    .dataframe thead th {\n",
       "        text-align: right;\n",
       "    }\n",
       "</style>\n",
       "<table border=\"1\" class=\"dataframe\">\n",
       "  <thead>\n",
       "    <tr style=\"text-align: right;\">\n",
       "      <th></th>\n",
       "      <th>cgpa</th>\n",
       "      <th>iq</th>\n",
       "    </tr>\n",
       "  </thead>\n",
       "  <tbody>\n",
       "    <tr>\n",
       "      <th>0</th>\n",
       "      <td>6.8</td>\n",
       "      <td>123.0</td>\n",
       "    </tr>\n",
       "    <tr>\n",
       "      <th>1</th>\n",
       "      <td>5.9</td>\n",
       "      <td>106.0</td>\n",
       "    </tr>\n",
       "    <tr>\n",
       "      <th>2</th>\n",
       "      <td>5.3</td>\n",
       "      <td>121.0</td>\n",
       "    </tr>\n",
       "    <tr>\n",
       "      <th>3</th>\n",
       "      <td>7.4</td>\n",
       "      <td>132.0</td>\n",
       "    </tr>\n",
       "    <tr>\n",
       "      <th>4</th>\n",
       "      <td>5.8</td>\n",
       "      <td>142.0</td>\n",
       "    </tr>\n",
       "    <tr>\n",
       "      <th>...</th>\n",
       "      <td>...</td>\n",
       "      <td>...</td>\n",
       "    </tr>\n",
       "    <tr>\n",
       "      <th>95</th>\n",
       "      <td>4.3</td>\n",
       "      <td>200.0</td>\n",
       "    </tr>\n",
       "    <tr>\n",
       "      <th>96</th>\n",
       "      <td>4.4</td>\n",
       "      <td>42.0</td>\n",
       "    </tr>\n",
       "    <tr>\n",
       "      <th>97</th>\n",
       "      <td>6.7</td>\n",
       "      <td>182.0</td>\n",
       "    </tr>\n",
       "    <tr>\n",
       "      <th>98</th>\n",
       "      <td>6.3</td>\n",
       "      <td>103.0</td>\n",
       "    </tr>\n",
       "    <tr>\n",
       "      <th>99</th>\n",
       "      <td>6.2</td>\n",
       "      <td>113.0</td>\n",
       "    </tr>\n",
       "  </tbody>\n",
       "</table>\n",
       "<p>100 rows × 2 columns</p>\n",
       "</div>"
      ],
      "text/plain": [
       "    cgpa     iq\n",
       "0    6.8  123.0\n",
       "1    5.9  106.0\n",
       "2    5.3  121.0\n",
       "3    7.4  132.0\n",
       "4    5.8  142.0\n",
       "..   ...    ...\n",
       "95   4.3  200.0\n",
       "96   4.4   42.0\n",
       "97   6.7  182.0\n",
       "98   6.3  103.0\n",
       "99   6.2  113.0\n",
       "\n",
       "[100 rows x 2 columns]"
      ]
     },
     "execution_count": 14,
     "metadata": {},
     "output_type": "execute_result"
    }
   ],
   "source": [
    "X"
   ]
  },
  {
   "cell_type": "markdown",
   "id": "3252c8a4",
   "metadata": {},
   "source": [
    "**Storing Independent variables into another variable**"
   ]
  },
  {
   "cell_type": "code",
   "execution_count": 18,
   "id": "2358134d",
   "metadata": {},
   "outputs": [],
   "source": [
    "Y = df.iloc[:,-1]"
   ]
  },
  {
   "cell_type": "code",
   "execution_count": 19,
   "id": "353076ba",
   "metadata": {},
   "outputs": [
    {
     "data": {
      "text/plain": [
       "0     1\n",
       "1     0\n",
       "2     0\n",
       "3     1\n",
       "4     0\n",
       "     ..\n",
       "95    0\n",
       "96    0\n",
       "97    1\n",
       "98    1\n",
       "99    1\n",
       "Name: placement, Length: 100, dtype: int64"
      ]
     },
     "execution_count": 19,
     "metadata": {},
     "output_type": "execute_result"
    }
   ],
   "source": [
    "Y"
   ]
  },
  {
   "cell_type": "markdown",
   "id": "1b2ebee4",
   "metadata": {},
   "source": [
    "# Performing train_test_split"
   ]
  },
  {
   "cell_type": "code",
   "execution_count": 20,
   "id": "21552efa",
   "metadata": {},
   "outputs": [],
   "source": [
    "from sklearn.model_selection import train_test_split"
   ]
  },
  {
   "cell_type": "code",
   "execution_count": 22,
   "id": "11e03df0",
   "metadata": {},
   "outputs": [],
   "source": [
    "X_train, X_test, Y_train, Y_test = train_test_split(X,Y, test_size = 0.1)"
   ]
  },
  {
   "cell_type": "code",
   "execution_count": 23,
   "id": "59a30e7e",
   "metadata": {},
   "outputs": [
    {
     "data": {
      "text/html": [
       "<div>\n",
       "<style scoped>\n",
       "    .dataframe tbody tr th:only-of-type {\n",
       "        vertical-align: middle;\n",
       "    }\n",
       "\n",
       "    .dataframe tbody tr th {\n",
       "        vertical-align: top;\n",
       "    }\n",
       "\n",
       "    .dataframe thead th {\n",
       "        text-align: right;\n",
       "    }\n",
       "</style>\n",
       "<table border=\"1\" class=\"dataframe\">\n",
       "  <thead>\n",
       "    <tr style=\"text-align: right;\">\n",
       "      <th></th>\n",
       "      <th>cgpa</th>\n",
       "      <th>iq</th>\n",
       "    </tr>\n",
       "  </thead>\n",
       "  <tbody>\n",
       "    <tr>\n",
       "      <th>14</th>\n",
       "      <td>6.1</td>\n",
       "      <td>103.0</td>\n",
       "    </tr>\n",
       "    <tr>\n",
       "      <th>69</th>\n",
       "      <td>8.5</td>\n",
       "      <td>120.0</td>\n",
       "    </tr>\n",
       "    <tr>\n",
       "      <th>6</th>\n",
       "      <td>5.7</td>\n",
       "      <td>143.0</td>\n",
       "    </tr>\n",
       "    <tr>\n",
       "      <th>3</th>\n",
       "      <td>7.4</td>\n",
       "      <td>132.0</td>\n",
       "    </tr>\n",
       "    <tr>\n",
       "      <th>41</th>\n",
       "      <td>5.4</td>\n",
       "      <td>114.0</td>\n",
       "    </tr>\n",
       "    <tr>\n",
       "      <th>...</th>\n",
       "      <td>...</td>\n",
       "      <td>...</td>\n",
       "    </tr>\n",
       "    <tr>\n",
       "      <th>26</th>\n",
       "      <td>7.0</td>\n",
       "      <td>199.0</td>\n",
       "    </tr>\n",
       "    <tr>\n",
       "      <th>78</th>\n",
       "      <td>6.1</td>\n",
       "      <td>81.0</td>\n",
       "    </tr>\n",
       "    <tr>\n",
       "      <th>9</th>\n",
       "      <td>5.1</td>\n",
       "      <td>66.0</td>\n",
       "    </tr>\n",
       "    <tr>\n",
       "      <th>42</th>\n",
       "      <td>7.6</td>\n",
       "      <td>89.0</td>\n",
       "    </tr>\n",
       "    <tr>\n",
       "      <th>66</th>\n",
       "      <td>6.9</td>\n",
       "      <td>96.0</td>\n",
       "    </tr>\n",
       "  </tbody>\n",
       "</table>\n",
       "<p>90 rows × 2 columns</p>\n",
       "</div>"
      ],
      "text/plain": [
       "    cgpa     iq\n",
       "14   6.1  103.0\n",
       "69   8.5  120.0\n",
       "6    5.7  143.0\n",
       "3    7.4  132.0\n",
       "41   5.4  114.0\n",
       "..   ...    ...\n",
       "26   7.0  199.0\n",
       "78   6.1   81.0\n",
       "9    5.1   66.0\n",
       "42   7.6   89.0\n",
       "66   6.9   96.0\n",
       "\n",
       "[90 rows x 2 columns]"
      ]
     },
     "execution_count": 23,
     "metadata": {},
     "output_type": "execute_result"
    }
   ],
   "source": [
    "X_train"
   ]
  },
  {
   "cell_type": "code",
   "execution_count": 24,
   "id": "0b421fee",
   "metadata": {},
   "outputs": [
    {
     "data": {
      "text/html": [
       "<div>\n",
       "<style scoped>\n",
       "    .dataframe tbody tr th:only-of-type {\n",
       "        vertical-align: middle;\n",
       "    }\n",
       "\n",
       "    .dataframe tbody tr th {\n",
       "        vertical-align: top;\n",
       "    }\n",
       "\n",
       "    .dataframe thead th {\n",
       "        text-align: right;\n",
       "    }\n",
       "</style>\n",
       "<table border=\"1\" class=\"dataframe\">\n",
       "  <thead>\n",
       "    <tr style=\"text-align: right;\">\n",
       "      <th></th>\n",
       "      <th>cgpa</th>\n",
       "      <th>iq</th>\n",
       "    </tr>\n",
       "  </thead>\n",
       "  <tbody>\n",
       "    <tr>\n",
       "      <th>76</th>\n",
       "      <td>4.9</td>\n",
       "      <td>155.0</td>\n",
       "    </tr>\n",
       "    <tr>\n",
       "      <th>34</th>\n",
       "      <td>4.8</td>\n",
       "      <td>163.0</td>\n",
       "    </tr>\n",
       "    <tr>\n",
       "      <th>51</th>\n",
       "      <td>4.8</td>\n",
       "      <td>141.0</td>\n",
       "    </tr>\n",
       "    <tr>\n",
       "      <th>45</th>\n",
       "      <td>6.0</td>\n",
       "      <td>66.0</td>\n",
       "    </tr>\n",
       "    <tr>\n",
       "      <th>44</th>\n",
       "      <td>7.5</td>\n",
       "      <td>61.0</td>\n",
       "    </tr>\n",
       "    <tr>\n",
       "      <th>20</th>\n",
       "      <td>6.6</td>\n",
       "      <td>120.0</td>\n",
       "    </tr>\n",
       "    <tr>\n",
       "      <th>25</th>\n",
       "      <td>5.0</td>\n",
       "      <td>91.0</td>\n",
       "    </tr>\n",
       "    <tr>\n",
       "      <th>32</th>\n",
       "      <td>7.0</td>\n",
       "      <td>139.0</td>\n",
       "    </tr>\n",
       "    <tr>\n",
       "      <th>10</th>\n",
       "      <td>6.0</td>\n",
       "      <td>45.0</td>\n",
       "    </tr>\n",
       "    <tr>\n",
       "      <th>36</th>\n",
       "      <td>5.7</td>\n",
       "      <td>140.0</td>\n",
       "    </tr>\n",
       "  </tbody>\n",
       "</table>\n",
       "</div>"
      ],
      "text/plain": [
       "    cgpa     iq\n",
       "76   4.9  155.0\n",
       "34   4.8  163.0\n",
       "51   4.8  141.0\n",
       "45   6.0   66.0\n",
       "44   7.5   61.0\n",
       "20   6.6  120.0\n",
       "25   5.0   91.0\n",
       "32   7.0  139.0\n",
       "10   6.0   45.0\n",
       "36   5.7  140.0"
      ]
     },
     "execution_count": 24,
     "metadata": {},
     "output_type": "execute_result"
    }
   ],
   "source": [
    "X_test"
   ]
  },
  {
   "cell_type": "code",
   "execution_count": 25,
   "id": "e5605604",
   "metadata": {},
   "outputs": [
    {
     "data": {
      "text/plain": [
       "14    0\n",
       "69    1\n",
       "6     0\n",
       "3     1\n",
       "41    0\n",
       "     ..\n",
       "26    1\n",
       "78    0\n",
       "9     0\n",
       "42    1\n",
       "66    1\n",
       "Name: placement, Length: 90, dtype: int64"
      ]
     },
     "execution_count": 25,
     "metadata": {},
     "output_type": "execute_result"
    }
   ],
   "source": [
    "Y_train"
   ]
  },
  {
   "cell_type": "code",
   "execution_count": 26,
   "id": "c6d7f61a",
   "metadata": {},
   "outputs": [
    {
     "data": {
      "text/plain": [
       "76    0\n",
       "34    0\n",
       "51    0\n",
       "45    1\n",
       "44    1\n",
       "20    1\n",
       "25    0\n",
       "32    1\n",
       "10    1\n",
       "36    0\n",
       "Name: placement, dtype: int64"
      ]
     },
     "execution_count": 26,
     "metadata": {},
     "output_type": "execute_result"
    }
   ],
   "source": [
    "Y_test"
   ]
  },
  {
   "cell_type": "markdown",
   "id": "c19d1b53",
   "metadata": {},
   "source": [
    "# Scaling your model"
   ]
  },
  {
   "cell_type": "code",
   "execution_count": 27,
   "id": "089c4fcd",
   "metadata": {},
   "outputs": [],
   "source": [
    "from sklearn.preprocessing import StandardScaler"
   ]
  },
  {
   "cell_type": "code",
   "execution_count": 28,
   "id": "f782d30d",
   "metadata": {},
   "outputs": [],
   "source": [
    "scaler = StandardScaler()"
   ]
  },
  {
   "cell_type": "code",
   "execution_count": 30,
   "id": "bbc3959d",
   "metadata": {},
   "outputs": [],
   "source": [
    "X_train = scaler.fit_transform(X_train)"
   ]
  },
  {
   "cell_type": "code",
   "execution_count": 31,
   "id": "1a596513",
   "metadata": {},
   "outputs": [
    {
     "data": {
      "text/plain": [
       "array([[ 0.07867772, -0.5541808 ],\n",
       "       [ 2.15116396, -0.12311998],\n",
       "       [-0.26673665,  0.46007994],\n",
       "       [ 1.20127443,  0.18115824],\n",
       "       [-0.52579743, -0.27525909],\n",
       "       [-0.52579743,  0.35865387],\n",
       "       [ 0.51044568,  0.33329735],\n",
       "       [-1.38933337,  0.61221905],\n",
       "       [ 1.5466888 , -0.27525909],\n",
       "       [ 0.85586006, -1.54308501],\n",
       "       [ 0.42409209, -0.88381554],\n",
       "       [ 1.11492084, -0.98524161],\n",
       "       [-1.13027259, -0.09776347],\n",
       "       [ 0.42409209,  0.1304452 ],\n",
       "       [-1.47568696,  1.90540149],\n",
       "       [ 0.42409209, -2.22771101],\n",
       "       [ 0.59679928,  0.73900164],\n",
       "       [-0.69850462,  2.51395793],\n",
       "       [ 0.3377385 , -0.22454606],\n",
       "       [-0.00767587, -0.02169391],\n",
       "       [ 0.42409209,  0.89114075],\n",
       "       [ 0.2513849 ,  0.05437564],\n",
       "       [-0.69850462, -0.37668517],\n",
       "       [ 0.68315287, -0.32597213],\n",
       "       [-1.21662618,  0.53614949],\n",
       "       [-0.18038306,  1.04327986],\n",
       "       [ 1.11492084, -1.89807627],\n",
       "       [-1.04391899,  1.11934942],\n",
       "       [ 0.76950646,  0.33329735],\n",
       "       [-0.61215103, -0.09776347],\n",
       "       [ 1.80574958,  1.04327986],\n",
       "       [ 0.76950646,  0.35865387],\n",
       "       [ 0.16503131, -0.30061561],\n",
       "       [ 0.94221365,  0.66293209],\n",
       "       [-1.04391899, -0.32597213],\n",
       "       [-0.18038306,  0.43472342],\n",
       "       [-1.73474774, -1.26416331],\n",
       "       [ 0.3377385 ,  0.4093669 ],\n",
       "       [-0.69850462,  0.18115824],\n",
       "       [-0.52579743, -0.45275472],\n",
       "       [-2.33922289,  1.47434067],\n",
       "       [-0.69850462,  0.91649727],\n",
       "       [-0.26673665,  1.11934942],\n",
       "       [-0.9575654 ,  1.80397541],\n",
       "       [ 1.37398162,  0.07973216],\n",
       "       [-0.69850462, -0.88381554],\n",
       "       [ 1.71939599, -1.16273724],\n",
       "       [ 1.28762802,  0.1304452 ],\n",
       "       [ 1.80574958,  0.61221905],\n",
       "       [-0.26673665,  0.18115824],\n",
       "       [-0.09402947, -0.47811124],\n",
       "       [-0.9575654 ,  0.23187127],\n",
       "       [ 1.97845677,  1.0939929 ],\n",
       "       [-1.73474774, -0.63025035],\n",
       "       [ 0.2513849 ,  0.07973216],\n",
       "       [ 1.11492084, -0.22454606],\n",
       "       [ 0.68315287, -0.88381554],\n",
       "       [-1.13027259, -1.84736323],\n",
       "       [ 0.85586006, -0.32597213],\n",
       "       [ 0.85586006,  1.27148853],\n",
       "       [-0.87121181, -0.17383302],\n",
       "       [-0.9575654 , -0.12311998],\n",
       "       [-1.38933337, -2.10092842],\n",
       "       [-0.78485821,  1.29684505],\n",
       "       [ 0.94221365, -1.94878931],\n",
       "       [-0.87121181, -1.56844153],\n",
       "       [-0.61215103, -0.27525909],\n",
       "       [ 0.2513849 , -0.5541808 ],\n",
       "       [-0.78485821,  0.07973216],\n",
       "       [-0.00767587,  0.61221905],\n",
       "       [ 1.28762802,  0.84042771],\n",
       "       [-0.52579743,  0.25722779],\n",
       "       [-0.9575654 , -1.61915457],\n",
       "       [-0.9575654 ,  0.66293209],\n",
       "       [-1.82110133, -0.40204169],\n",
       "       [ 0.07867772,  0.78971468],\n",
       "       [-2.1665157 ,  2.74216659],\n",
       "       [ 0.68315287,  0.4093669 ],\n",
       "       [ 0.59679928,  1.44898416],\n",
       "       [ 0.07867772, -1.51772849],\n",
       "       [-1.13027259, -0.95988509],\n",
       "       [ 1.11492084,  0.30794083],\n",
       "       [ 0.68315287, -0.04705043],\n",
       "       [-0.00767587, -0.57953731],\n",
       "       [ 0.07867772,  0.18115824],\n",
       "       [ 0.85586006,  1.88004497],\n",
       "       [ 0.07867772, -1.1120242 ],\n",
       "       [-0.78485821, -1.49237198],\n",
       "       [ 1.37398162, -0.90917205],\n",
       "       [ 0.76950646, -0.73167642]])"
      ]
     },
     "execution_count": 31,
     "metadata": {},
     "output_type": "execute_result"
    }
   ],
   "source": [
    "X_train"
   ]
  },
  {
   "cell_type": "code",
   "execution_count": 32,
   "id": "b4ca4540",
   "metadata": {},
   "outputs": [],
   "source": [
    "X_test = scaler.fit_transform(X_test)"
   ]
  },
  {
   "cell_type": "code",
   "execution_count": 33,
   "id": "f3cc8d41",
   "metadata": {},
   "outputs": [
    {
     "data": {
      "text/plain": [
       "array([[-1.0086673 ,  1.05564846],\n",
       "       [-1.11712615,  1.25250598],\n",
       "       [-1.11712615,  0.7111478 ],\n",
       "       [ 0.18438004, -1.13439147],\n",
       "       [ 1.81126278, -1.25742742],\n",
       "       [ 0.83513314,  0.1943968 ],\n",
       "       [-0.90020845, -0.51921171],\n",
       "       [ 1.26896854,  0.66193342],\n",
       "       [ 0.18438004, -1.65114246],\n",
       "       [-0.1409965 ,  0.68654061]])"
      ]
     },
     "execution_count": 33,
     "metadata": {},
     "output_type": "execute_result"
    }
   ],
   "source": [
    "X_test"
   ]
  },
  {
   "cell_type": "markdown",
   "id": "931785a2",
   "metadata": {},
   "source": [
    "# Train Your Model"
   ]
  },
  {
   "cell_type": "code",
   "execution_count": 37,
   "id": "41fc1aa7",
   "metadata": {},
   "outputs": [],
   "source": [
    "from sklearn.linear_model import LogisticRegression"
   ]
  },
  {
   "cell_type": "markdown",
   "id": "f592ca64",
   "metadata": {},
   "source": [
    "**creating object/Classifier of logistic regression**"
   ]
  },
  {
   "cell_type": "code",
   "execution_count": 38,
   "id": "41fbcc63",
   "metadata": {},
   "outputs": [],
   "source": [
    "clf = LogisticRegression()"
   ]
  },
  {
   "cell_type": "markdown",
   "id": "0ed12896",
   "metadata": {},
   "source": [
    "**You use fit() Function to train your model**"
   ]
  },
  {
   "cell_type": "code",
   "execution_count": 39,
   "id": "884d0895",
   "metadata": {},
   "outputs": [
    {
     "data": {
      "text/plain": [
       "LogisticRegression()"
      ]
     },
     "execution_count": 39,
     "metadata": {},
     "output_type": "execute_result"
    }
   ],
   "source": [
    "# Model Training\n",
    "\n",
    "clf.fit(X_train, Y_train)   "
   ]
  },
  {
   "cell_type": "code",
   "execution_count": 40,
   "id": "2605eb3e",
   "metadata": {},
   "outputs": [
    {
     "data": {
      "text/plain": [
       "array([0, 0, 0, 1, 1, 1, 0, 1, 1, 0], dtype=int64)"
      ]
     },
     "execution_count": 40,
     "metadata": {},
     "output_type": "execute_result"
    }
   ],
   "source": [
    "clf.predict(X_test)                         #Model test result"
   ]
  },
  {
   "cell_type": "code",
   "execution_count": 42,
   "id": "6eac7e72",
   "metadata": {},
   "outputs": [
    {
     "data": {
      "text/plain": [
       "76    0\n",
       "34    0\n",
       "51    0\n",
       "45    1\n",
       "44    1\n",
       "20    1\n",
       "25    0\n",
       "32    1\n",
       "10    1\n",
       "36    0\n",
       "Name: placement, dtype: int64"
      ]
     },
     "execution_count": 42,
     "metadata": {},
     "output_type": "execute_result"
    }
   ],
   "source": [
    "Y_test                                      #Actual Result"
   ]
  },
  {
   "cell_type": "markdown",
   "id": "11aef807",
   "metadata": {},
   "source": [
    "**For checking accuracy Score**"
   ]
  },
  {
   "cell_type": "code",
   "execution_count": 44,
   "id": "d139fc0f",
   "metadata": {},
   "outputs": [],
   "source": [
    "Y_pred = clf.predict(X_test)"
   ]
  },
  {
   "cell_type": "code",
   "execution_count": 45,
   "id": "0a397c3e",
   "metadata": {},
   "outputs": [
    {
     "data": {
      "text/plain": [
       "76    0\n",
       "34    0\n",
       "51    0\n",
       "45    1\n",
       "44    1\n",
       "20    1\n",
       "25    0\n",
       "32    1\n",
       "10    1\n",
       "36    0\n",
       "Name: placement, dtype: int64"
      ]
     },
     "execution_count": 45,
     "metadata": {},
     "output_type": "execute_result"
    }
   ],
   "source": [
    "Y_test"
   ]
  },
  {
   "cell_type": "code",
   "execution_count": 47,
   "id": "ab1f334e",
   "metadata": {},
   "outputs": [],
   "source": [
    "from sklearn.metrics import accuracy_score"
   ]
  },
  {
   "cell_type": "code",
   "execution_count": 48,
   "id": "fe032b36",
   "metadata": {},
   "outputs": [
    {
     "data": {
      "text/plain": [
       "1.0"
      ]
     },
     "execution_count": 48,
     "metadata": {},
     "output_type": "execute_result"
    }
   ],
   "source": [
    "accuracy_score(Y_test, Y_pred)"
   ]
  },
  {
   "cell_type": "markdown",
   "id": "7f258c38",
   "metadata": {},
   "source": [
    "**To visuliaze the patterns which was found by model in dataset you use decision boundry function.**\n",
    "\n",
    "**..mlxtend plot decision boundry..**"
   ]
  },
  {
   "cell_type": "code",
   "execution_count": 50,
   "id": "71825947",
   "metadata": {},
   "outputs": [],
   "source": [
    "from mlxtend.plotting import plot_decision_regions"
   ]
  },
  {
   "cell_type": "code",
   "execution_count": 52,
   "id": "03c1992a",
   "metadata": {},
   "outputs": [
    {
     "data": {
      "text/plain": [
       "<AxesSubplot:>"
      ]
     },
     "execution_count": 52,
     "metadata": {},
     "output_type": "execute_result"
    },
    {
     "data": {
      "image/png": "[encoded data removed]",
      "text/plain": [
       "<Figure size 640x480 with 1 Axes>"
      ]
     },
     "metadata": {},
     "output_type": "display_data"
    }
   ],
   "source": [
    "plot_decision_regions(X_train, Y_train.values, clf=clf, legend = 2)"
   ]
  },
  {
   "cell_type": "markdown",
   "id": "d95a3c7e",
   "metadata": {},
   "source": [
    "**This is the decision boundry drawn by logistic regression**"
   ]
  }
 ],
 "metadata": {
  "kernelspec": {
   "display_name": "Python 3 (ipykernel)",
   "language": "python",
   "name": "python3"
  },
  "language_info": {
   "codemirror_mode": {
    "name": "ipython",
    "version": 3
   },
   "file_extension": ".py",
   "mimetype": "text/x-python",
   "name": "python",
   "nbconvert_exporter": "python",
   "pygments_lexer": "ipython3",
   "version": "3.9.13"
  }
 },
 "nbformat": 4,
 "nbformat_minor": 5
}
